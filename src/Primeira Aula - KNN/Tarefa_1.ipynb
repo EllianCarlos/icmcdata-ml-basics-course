{
  "nbformat": 4,
  "nbformat_minor": 0,
  "metadata": {
    "kernelspec": {
      "name": "python3",
      "display_name": "Python 3.8.10 64-bit"
    },
    "language_info": {
      "codemirror_mode": {
        "name": "ipython",
        "version": 3
      },
      "file_extension": ".py",
      "mimetype": "text/x-python",
      "name": "python",
      "nbconvert_exporter": "python",
      "pygments_lexer": "ipython3",
      "version": "3.8.10"
    },
    "colab": {
      "name": "Tarefa 1.ipynb",
      "provenance": [],
      "collapsed_sections": []
    },
    "interpreter": {
      "hash": "916dbcbb3f70747c44a77c7bcd40155683ae19c65e1c03b4aa3499c5328201f1"
    }
  },
  "cells": [
    {
      "cell_type": "markdown",
      "metadata": {
        "id": "mNoC8Dxwq9xb"
      },
      "source": [
        "# Introdução Machine Learning - Data ICMC-USP\n",
        "\n",
        "## Tarefa Aula 01 - k-Nearest Neighbors\n",
        "\n",
        "Esse material foi desenvolvido pelo **Data**, grupo de extensão de aprendizado e ciência de dados compostos por alunos do Instituto de Ciências Matemáticas e de Computação da USP\n",
        "\n",
        "Para saber mais sobre as atividades do Data entre no nosso site e nos siga e nossas redes sociais:\n",
        "- [Site](http://data.icmc.usp.br/)\n",
        "- [Twitter](https://twitter.com/data_icmc)\n",
        "- [LinkedIn](https://www.linkedin.com/school/data-icmc/)\n",
        "- [Facebook](https://www.facebook.com/dataICMC/)\n",
        "\n",
        "Aproveite o material!"
      ]
    },
    {
      "cell_type": "code",
      "metadata": {
        "id": "vMKesbQkq9xd"
      },
      "source": [
        "import numpy as np\n",
        "import pandas as pd\n",
        "import matplotlib.pyplot as plt\n",
        "\n",
        "from sklearn.preprocessing import MinMaxScaler\n",
        "from sklearn.model_selection import train_test_split\n",
        "from sklearn.metrics import accuracy_score\n",
        "from sklearn.neighbors import KNeighborsClassifier"
      ],
      "execution_count": null,
      "outputs": []
    },
    {
      "cell_type": "markdown",
      "metadata": {
        "id": "0G-iGlBQq9xe"
      },
      "source": [
        "Vamos começar carregando os dados que iremos usar no nossa tarefa. Esses dados fornecem várias informações a respeito de diferentes vinhos e o objetivo é classificar se o vinho é bom (target é a coluna *is_good*).\n",
        "\n",
        "Esse conjunto de dados é uma modificação do conjunto "
      ]
    },
    {
      "cell_type": "code",
      "metadata": {
        "id": "Ts9ZUEcWq9xe",
        "colab": {
          "base_uri": "https://localhost:8080/",
          "height": 221
        },
        "outputId": "73d7999d-38f0-4a46-b6ff-3411ad030666"
      },
      "source": [
        "##############################################################\n",
        "#                       PREENCHA AQUI:                       #\n",
        "#  - Leia os dados de data.csv com pd.read_csv e guarde      #\n",
        "# na variável df                                             #\n",
        "##############################################################\n",
        "\n",
        "df = pd.read_csv(\"vinho.csv\")\n",
        "\n",
        "##############################################################\n",
        "\n",
        "df.head()"
      ],
      "execution_count": null,
      "outputs": [
        {
          "output_type": "execute_result",
          "data": {
            "text/html": [
              "<div>\n",
              "<style scoped>\n",
              "    .dataframe tbody tr th:only-of-type {\n",
              "        vertical-align: middle;\n",
              "    }\n",
              "\n",
              "    .dataframe tbody tr th {\n",
              "        vertical-align: top;\n",
              "    }\n",
              "\n",
              "    .dataframe thead th {\n",
              "        text-align: right;\n",
              "    }\n",
              "</style>\n",
              "<table border=\"1\" class=\"dataframe\">\n",
              "  <thead>\n",
              "    <tr style=\"text-align: right;\">\n",
              "      <th></th>\n",
              "      <th>fixed acidity</th>\n",
              "      <th>volatile acidity</th>\n",
              "      <th>citric acid</th>\n",
              "      <th>residual sugar</th>\n",
              "      <th>chlorides</th>\n",
              "      <th>free sulfur dioxide</th>\n",
              "      <th>total sulfur dioxide</th>\n",
              "      <th>density</th>\n",
              "      <th>pH</th>\n",
              "      <th>sulphates</th>\n",
              "      <th>alcohol</th>\n",
              "      <th>is good</th>\n",
              "    </tr>\n",
              "  </thead>\n",
              "  <tbody>\n",
              "    <tr>\n",
              "      <th>0</th>\n",
              "      <td>7.4</td>\n",
              "      <td>0.70</td>\n",
              "      <td>0.00</td>\n",
              "      <td>1.9</td>\n",
              "      <td>0.076</td>\n",
              "      <td>11.0</td>\n",
              "      <td>34.0</td>\n",
              "      <td>0.9978</td>\n",
              "      <td>3.51</td>\n",
              "      <td>0.56</td>\n",
              "      <td>9.4</td>\n",
              "      <td>0.0</td>\n",
              "    </tr>\n",
              "    <tr>\n",
              "      <th>1</th>\n",
              "      <td>7.8</td>\n",
              "      <td>0.88</td>\n",
              "      <td>0.00</td>\n",
              "      <td>2.6</td>\n",
              "      <td>0.098</td>\n",
              "      <td>25.0</td>\n",
              "      <td>67.0</td>\n",
              "      <td>0.9968</td>\n",
              "      <td>3.20</td>\n",
              "      <td>0.68</td>\n",
              "      <td>9.8</td>\n",
              "      <td>0.0</td>\n",
              "    </tr>\n",
              "    <tr>\n",
              "      <th>2</th>\n",
              "      <td>7.8</td>\n",
              "      <td>0.76</td>\n",
              "      <td>0.04</td>\n",
              "      <td>2.3</td>\n",
              "      <td>0.092</td>\n",
              "      <td>15.0</td>\n",
              "      <td>54.0</td>\n",
              "      <td>0.9970</td>\n",
              "      <td>3.26</td>\n",
              "      <td>0.65</td>\n",
              "      <td>9.8</td>\n",
              "      <td>0.0</td>\n",
              "    </tr>\n",
              "    <tr>\n",
              "      <th>3</th>\n",
              "      <td>11.2</td>\n",
              "      <td>0.28</td>\n",
              "      <td>0.56</td>\n",
              "      <td>1.9</td>\n",
              "      <td>0.075</td>\n",
              "      <td>17.0</td>\n",
              "      <td>60.0</td>\n",
              "      <td>0.9980</td>\n",
              "      <td>3.16</td>\n",
              "      <td>0.58</td>\n",
              "      <td>9.8</td>\n",
              "      <td>1.0</td>\n",
              "    </tr>\n",
              "    <tr>\n",
              "      <th>4</th>\n",
              "      <td>7.4</td>\n",
              "      <td>0.70</td>\n",
              "      <td>0.00</td>\n",
              "      <td>1.9</td>\n",
              "      <td>0.076</td>\n",
              "      <td>11.0</td>\n",
              "      <td>34.0</td>\n",
              "      <td>0.9978</td>\n",
              "      <td>3.51</td>\n",
              "      <td>0.56</td>\n",
              "      <td>9.4</td>\n",
              "      <td>0.0</td>\n",
              "    </tr>\n",
              "  </tbody>\n",
              "</table>\n",
              "</div>"
            ],
            "text/plain": [
              "   fixed acidity  volatile acidity  citric acid  ...  sulphates  alcohol  is good\n",
              "0            7.4              0.70         0.00  ...       0.56      9.4      0.0\n",
              "1            7.8              0.88         0.00  ...       0.68      9.8      0.0\n",
              "2            7.8              0.76         0.04  ...       0.65      9.8      0.0\n",
              "3           11.2              0.28         0.56  ...       0.58      9.8      1.0\n",
              "4            7.4              0.70         0.00  ...       0.56      9.4      0.0\n",
              "\n",
              "[5 rows x 12 columns]"
            ]
          },
          "metadata": {},
          "execution_count": 51
        }
      ]
    },
    {
      "cell_type": "code",
      "metadata": {
        "id": "K2V29bVLq9xf",
        "colab": {
          "base_uri": "https://localhost:8080/"
        },
        "outputId": "ba6728c6-b083-4ad7-e6ea-93323b571eb0"
      },
      "source": [
        "##############################################################\n",
        "#                       PREENCHA AQUI:                       #\n",
        "#  - Guarde o shape do DataFrame na viarável  shape          #\n",
        "##############################################################\n",
        "\n",
        "shape = df.shape\n",
        "\n",
        "##############################################################\n",
        "\n",
        "print(shape)"
      ],
      "execution_count": null,
      "outputs": [
        {
          "output_type": "stream",
          "text": [
            "(1599, 12)\n"
          ],
          "name": "stdout"
        }
      ]
    },
    {
      "cell_type": "code",
      "metadata": {
        "id": "5rS47mX8q9xf",
        "colab": {
          "base_uri": "https://localhost:8080/"
        },
        "outputId": "86e54b27-8954-47d5-b92f-d012f3c50963"
      },
      "source": [
        "for col in df.columns:\n",
        "    print(col)"
      ],
      "execution_count": null,
      "outputs": [
        {
          "output_type": "stream",
          "text": [
            "fixed acidity\n",
            "volatile acidity\n",
            "citric acid\n",
            "residual sugar\n",
            "chlorides\n",
            "free sulfur dioxide\n",
            "total sulfur dioxide\n",
            "density\n",
            "pH\n",
            "sulphates\n",
            "alcohol\n",
            "is good\n"
          ],
          "name": "stdout"
        }
      ]
    },
    {
      "cell_type": "markdown",
      "metadata": {
        "id": "pCbOWdYWq9xg"
      },
      "source": [
        "### Deixando os dados na mesma escala\n",
        "Para vários algoritmos é importante deixarmos os dados em uma mesma escala, e o kNN um desses casos. Para entender melhor vamos olhar o exemplo a seguir:\n",
        "\n",
        "<img src=\"grafico_escala.png\" style=\"width: 400px\"/>\n",
        "\n",
        "Nesse caso a distância entre os dois pontos é dada por\n",
        "\n",
        "$$\n",
        "\\begin{align*}\n",
        "\\text{dist}(x^{(1)}, x^{(2)}) &= \\sqrt{(x^{(1)}_1 - x^{(2)}_1)^2 + (x^{(1)}_2 - x^{(2)}_2)^2} \\\\\n",
        "  &= \\sqrt{(3 - 2)^2 + (10000 - 9000)^2} \\\\\n",
        "  &= \\sqrt{1 + 1000000} \\\\\n",
        "  &= \\sqrt{1000001} \\\\\n",
        "  &= 1000.0005\n",
        "\\end{align*}$$\n",
        "\n",
        "\n",
        "Como as escalas são muito diferentes o primeiro atributo acaba não interferindo em praticamente nada no resultado da distância. E é importante perceber que esse tipo de situação ocorre com frequência em conjuntos de dados reais.\n",
        "\n",
        "Existem diversas formas de tratar essa situação, aqui usaremos uma técnica chamada **Min-Max Scaling**, que transforma os dados deixando-os no intervalo $[0, 1]$. A formula é da transformação é a seguinte:\n",
        "\n",
        "$$x^{(i)}_j \\leftarrow \\frac{x^{(i)}_j - min(x_j)}{max(x_j) - min(x_j)}$$\n",
        "\n",
        "Em palavras significa que vamos subtrair o menor valor da atributo e dividir pela amplitude (diferença entre o máximo e o mínimo).\n",
        "\n",
        "\n",
        "Pronto, agora que entendemos podemos fazer fazer isso para todas as nossas colunas utilizando a função interna do scikit-learn"
      ]
    },
    {
      "cell_type": "code",
      "metadata": {
        "id": "LVLA46avq9xh",
        "colab": {
          "base_uri": "https://localhost:8080/",
          "height": 221
        },
        "outputId": "1d52fcc5-8789-431a-8e17-dda5ec93f9d9"
      },
      "source": [
        "##############################################################\n",
        "#                       PREENCHA AQUI:                       #\n",
        "# - Use MinMaxScaler implementada na Scikit-learn            #\n",
        "#   para escalonar os dados                                  #\n",
        "##############################################################\n",
        "scaler = MinMaxScaler()\n",
        "df[:] = scaler.fit_transform(df[:])\n",
        "##############################################################\n",
        "\n",
        "# Vamos dar uma olhada no resultado do escalonamento\n",
        "df.head()"
      ],
      "execution_count": null,
      "outputs": [
        {
          "output_type": "execute_result",
          "data": {
            "text/html": [
              "<div>\n",
              "<style scoped>\n",
              "    .dataframe tbody tr th:only-of-type {\n",
              "        vertical-align: middle;\n",
              "    }\n",
              "\n",
              "    .dataframe tbody tr th {\n",
              "        vertical-align: top;\n",
              "    }\n",
              "\n",
              "    .dataframe thead th {\n",
              "        text-align: right;\n",
              "    }\n",
              "</style>\n",
              "<table border=\"1\" class=\"dataframe\">\n",
              "  <thead>\n",
              "    <tr style=\"text-align: right;\">\n",
              "      <th></th>\n",
              "      <th>fixed acidity</th>\n",
              "      <th>volatile acidity</th>\n",
              "      <th>citric acid</th>\n",
              "      <th>residual sugar</th>\n",
              "      <th>chlorides</th>\n",
              "      <th>free sulfur dioxide</th>\n",
              "      <th>total sulfur dioxide</th>\n",
              "      <th>density</th>\n",
              "      <th>pH</th>\n",
              "      <th>sulphates</th>\n",
              "      <th>alcohol</th>\n",
              "      <th>is good</th>\n",
              "    </tr>\n",
              "  </thead>\n",
              "  <tbody>\n",
              "    <tr>\n",
              "      <th>0</th>\n",
              "      <td>0.247788</td>\n",
              "      <td>0.397260</td>\n",
              "      <td>0.00</td>\n",
              "      <td>0.068493</td>\n",
              "      <td>0.106845</td>\n",
              "      <td>0.140845</td>\n",
              "      <td>0.098940</td>\n",
              "      <td>0.567548</td>\n",
              "      <td>0.606299</td>\n",
              "      <td>0.137725</td>\n",
              "      <td>0.153846</td>\n",
              "      <td>0.0</td>\n",
              "    </tr>\n",
              "    <tr>\n",
              "      <th>1</th>\n",
              "      <td>0.283186</td>\n",
              "      <td>0.520548</td>\n",
              "      <td>0.00</td>\n",
              "      <td>0.116438</td>\n",
              "      <td>0.143573</td>\n",
              "      <td>0.338028</td>\n",
              "      <td>0.215548</td>\n",
              "      <td>0.494126</td>\n",
              "      <td>0.362205</td>\n",
              "      <td>0.209581</td>\n",
              "      <td>0.215385</td>\n",
              "      <td>0.0</td>\n",
              "    </tr>\n",
              "    <tr>\n",
              "      <th>2</th>\n",
              "      <td>0.283186</td>\n",
              "      <td>0.438356</td>\n",
              "      <td>0.04</td>\n",
              "      <td>0.095890</td>\n",
              "      <td>0.133556</td>\n",
              "      <td>0.197183</td>\n",
              "      <td>0.169611</td>\n",
              "      <td>0.508811</td>\n",
              "      <td>0.409449</td>\n",
              "      <td>0.191617</td>\n",
              "      <td>0.215385</td>\n",
              "      <td>0.0</td>\n",
              "    </tr>\n",
              "    <tr>\n",
              "      <th>3</th>\n",
              "      <td>0.584071</td>\n",
              "      <td>0.109589</td>\n",
              "      <td>0.56</td>\n",
              "      <td>0.068493</td>\n",
              "      <td>0.105175</td>\n",
              "      <td>0.225352</td>\n",
              "      <td>0.190813</td>\n",
              "      <td>0.582232</td>\n",
              "      <td>0.330709</td>\n",
              "      <td>0.149701</td>\n",
              "      <td>0.215385</td>\n",
              "      <td>1.0</td>\n",
              "    </tr>\n",
              "    <tr>\n",
              "      <th>4</th>\n",
              "      <td>0.247788</td>\n",
              "      <td>0.397260</td>\n",
              "      <td>0.00</td>\n",
              "      <td>0.068493</td>\n",
              "      <td>0.106845</td>\n",
              "      <td>0.140845</td>\n",
              "      <td>0.098940</td>\n",
              "      <td>0.567548</td>\n",
              "      <td>0.606299</td>\n",
              "      <td>0.137725</td>\n",
              "      <td>0.153846</td>\n",
              "      <td>0.0</td>\n",
              "    </tr>\n",
              "  </tbody>\n",
              "</table>\n",
              "</div>"
            ],
            "text/plain": [
              "   fixed acidity  volatile acidity  citric acid  ...  sulphates   alcohol  is good\n",
              "0       0.247788          0.397260         0.00  ...   0.137725  0.153846      0.0\n",
              "1       0.283186          0.520548         0.00  ...   0.209581  0.215385      0.0\n",
              "2       0.283186          0.438356         0.04  ...   0.191617  0.215385      0.0\n",
              "3       0.584071          0.109589         0.56  ...   0.149701  0.215385      1.0\n",
              "4       0.247788          0.397260         0.00  ...   0.137725  0.153846      0.0\n",
              "\n",
              "[5 rows x 12 columns]"
            ]
          },
          "metadata": {},
          "execution_count": 54
        }
      ]
    },
    {
      "cell_type": "markdown",
      "metadata": {
        "id": "gup4P33hq9xh"
      },
      "source": [
        "### Divisão dos dados em treino e validação"
      ]
    },
    {
      "cell_type": "code",
      "metadata": {
        "id": "ou99-sF4q9xi",
        "colab": {
          "base_uri": "https://localhost:8080/"
        },
        "outputId": "9bec7192-e2d9-469f-ff1f-4956fc5deffc"
      },
      "source": [
        "target = 'is good'\n",
        "features = df.columns.to_list()\n",
        "features.remove(target)\n",
        "\n",
        "X_train, X_val, y_train, y_val = train_test_split(df[features], df[target], test_size=0.2, random_state=42)\n",
        "\n",
        "print(X_train.shape)\n",
        "print(y_train.shape)\n",
        "print(X_val.shape)\n",
        "print(y_val.shape)"
      ],
      "execution_count": null,
      "outputs": [
        {
          "output_type": "stream",
          "text": [
            "(1279, 11)\n",
            "(1279,)\n",
            "(320, 11)\n",
            "(320,)\n"
          ],
          "name": "stdout"
        }
      ]
    },
    {
      "cell_type": "markdown",
      "metadata": {
        "id": "yJn7NuBPq9xj"
      },
      "source": [
        "### Treinando um modelo"
      ]
    },
    {
      "cell_type": "code",
      "metadata": {
        "id": "T91n6rgqq9xj"
      },
      "source": [
        "##############################################################\n",
        "#                       PREENCHA AQUI:                       #\n",
        "#  - Instancie um KNeighborsClassifier na variável clf       #\n",
        "#  - Treine o classificador com X_train e y_train            #\n",
        "#  - Faça a predições para os dados de validade e salve      #\n",
        "# em y_pred                                                  #\n",
        "##############################################################\n",
        "\n",
        "clf = KNeighborsClassifier()\n",
        "clf.fit(X=X_train, y=y_train)\n",
        "y_pred = clf.predict(X_val)\n",
        "\n",
        "##############################################################"
      ],
      "execution_count": null,
      "outputs": []
    },
    {
      "cell_type": "markdown",
      "metadata": {
        "id": "rLTrACbEq9xj"
      },
      "source": [
        "### Avaliando o modelo treinado"
      ]
    },
    {
      "cell_type": "code",
      "metadata": {
        "id": "cyTbRUyNq9xj",
        "colab": {
          "base_uri": "https://localhost:8080/"
        },
        "outputId": "2cd946c6-f52f-4ee7-9148-dfa9fbb627e5"
      },
      "source": [
        "##############################################################\n",
        "#                       PREENCHA AQUI:                       #\n",
        "#  - Calcule a acurácia do modelo que você treinou usando a  #\n",
        "# função accuracy_score, salve o resultado e o imprima       #\n",
        "##############################################################\n",
        "\n",
        "acc = accuracy_score(y_val, y_pred)\n",
        "\n",
        "##############################################################\n",
        "\n",
        "print(f'A acurácia foi de {acc * 100:.2f}%')"
      ],
      "execution_count": null,
      "outputs": [
        {
          "output_type": "stream",
          "text": [
            "A acurácia foi de 68.44%\n"
          ],
          "name": "stdout"
        }
      ]
    },
    {
      "cell_type": "markdown",
      "metadata": {
        "id": "iob7w1yKq9xk"
      },
      "source": [
        "### Explorando variações no modelo\n",
        "\n",
        "#### Número de vizinhos\n",
        "\n",
        "O principal hiperparâmetro do kNN é justamente o número de vizinhos, representado pelo k. Por padrão o `KNeighborsClassifier()` usa cinco vizinhos, através de seu parâmetro `n_neighbors` é possível alterar este valor.\n",
        "\n",
        "#### Métrica de distância\n",
        "\n",
        "Como vimos na aula, é possível utilizar diferentes metricas de distancia entre pontos, e vimos as duas seguintes:\n",
        "\n",
        "- Distância Euclidiana => $dist(a, b) = \\sqrt{\\sum_i (a_i - b_i)^2}$\n",
        "- Distância Manhattan => $dist(a, b) = \\sum_i |a_i - b_i|$\n",
        "\n",
        "O sklearn, por outro lado, faz uso de uma generalização destas duas distâncias, chamada distância **Minkowski** =>\n",
        "$dist(a, b) = (\\sum_i |a_i - b_i|^p)^\\frac{1}{p}$. Perceba que com $p=2$ temos a distância Euclidiano e com $p=1$ temos a distância Manhattan. \n",
        "\n",
        "Por padrão a classe `KNeighborsClassifier()` usa `p=2`."
      ]
    },
    {
      "cell_type": "code",
      "metadata": {
        "id": "zpgzU1guq9xk",
        "colab": {
          "base_uri": "https://localhost:8080/"
        },
        "outputId": "feea8f25-b301-4316-b2fd-55cd733f76bc"
      },
      "source": [
        "n_vizinhos = [3, 5, 7, 9, 11, 13]\n",
        "resultados = []\n",
        "\n",
        "for k in n_vizinhos:\n",
        "    ##############################################################\n",
        "    #                       PREENCHA AQUI:                       #\n",
        "    #  - Crie um kNN com k vizinhos e utilizando distância       #\n",
        "    # Manhattan                                                  #\n",
        "    # - Treine esse modelo com X_train e y_train                 #\n",
        "    # - Calcule a acurácia do modelo que você treinou e salve    #\n",
        "    # o resultado na lista resultados                            #\n",
        "    ##############################################################\n",
        "    clf = KNeighborsClassifier(k, p=1)\n",
        "    clf.fit(X_train, y_train)\n",
        "    y_pred = clf.predict(X_val)\n",
        "    acc = accuracy_score(y_val, y_pred)   \n",
        "    resultados.append(acc)\n",
        "\n",
        "    ##############################################################\n",
        "\n",
        "for k, acc in zip(n_vizinhos, resultados):\n",
        "    print(f'{k:02d} vizinhos => Acurácia {acc * 100:.2f}%')"
      ],
      "execution_count": null,
      "outputs": [
        {
          "output_type": "stream",
          "text": [
            "03 vizinhos => Acurácia 73.12%\n",
            "05 vizinhos => Acurácia 74.38%\n",
            "07 vizinhos => Acurácia 73.44%\n",
            "09 vizinhos => Acurácia 70.62%\n",
            "11 vizinhos => Acurácia 72.19%\n",
            "13 vizinhos => Acurácia 70.94%\n"
          ],
          "name": "stdout"
        }
      ]
    },
    {
      "cell_type": "code",
      "metadata": {
        "id": "fXZWMiUkf1tR"
      },
      "source": [
        ""
      ],
      "execution_count": null,
      "outputs": []
    }
  ]
}