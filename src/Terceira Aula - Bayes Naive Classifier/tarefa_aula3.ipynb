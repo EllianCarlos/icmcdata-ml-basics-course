{
  "nbformat": 4,
  "nbformat_minor": 0,
  "metadata": {
    "kernelspec": {
      "display_name": "Python 3",
      "language": "python",
      "name": "python3"
    },
    "language_info": {
      "codemirror_mode": {
        "name": "ipython",
        "version": 3
      },
      "file_extension": ".py",
      "mimetype": "text/x-python",
      "name": "python",
      "nbconvert_exporter": "python",
      "pygments_lexer": "ipython3",
      "version": "3.8.2"
    },
    "colab": {
      "name": "tarefa_aula3.ipynb",
      "provenance": [],
      "collapsed_sections": []
    }
  },
  "cells": [
    {
      "cell_type": "markdown",
      "metadata": {
        "id": "cWR1EsHKplrt"
      },
      "source": [
        "# Detector de Spam\n",
        "Nesse exercício, faremos um detector de spam usando o classificador Naive Bayes\n",
        "\n",
        "Para isso, usaremos o dataset [\"SMS Spam Collection\"](https://archive.ics.uci.edu/ml/datasets/sms+spam+collection), que já está salvo no arquivo 'spam.csv'"
      ]
    },
    {
      "cell_type": "markdown",
      "metadata": {
        "id": "vhlhNmGLplrz"
      },
      "source": [
        "Primeiramente, execute a célula seguinte para ler o dataset e ver as suas primeiras linhas:"
      ]
    },
    {
      "cell_type": "code",
      "metadata": {
        "colab": {
          "base_uri": "https://localhost:8080/",
          "height": 204
        },
        "id": "16AlMGceplr0",
        "outputId": "926bcce4-8252-4a2b-b3ee-a9ff2d883457"
      },
      "source": [
        "import pandas as pd\n",
        "import numpy as np\n",
        "\n",
        "def preprocess(string):\n",
        "    string = string.lower()\n",
        "    for c in ['.', ',', '!', '?', '<', '>', '^', '~', ';', ':', '\"', '[', ']', '(', ')', '{', '}', '´', '`', '/', '\\\\', '|']:\n",
        "        string = string.replace(c, ' ')\n",
        "    return string\n",
        "\n",
        "df = pd.read_csv('spam.csv', encoding = 'latin-1')[['v1', 'v2']]\n",
        "df = df.rename(columns = {'v1':'class', 'v2' : 'contents'})\n",
        "df['contents'] = df['contents'].map(preprocess)\n",
        "\n",
        "df.head()"
      ],
      "execution_count": 2,
      "outputs": [
        {
          "output_type": "execute_result",
          "data": {
            "text/html": [
              "<div>\n",
              "<style scoped>\n",
              "    .dataframe tbody tr th:only-of-type {\n",
              "        vertical-align: middle;\n",
              "    }\n",
              "\n",
              "    .dataframe tbody tr th {\n",
              "        vertical-align: top;\n",
              "    }\n",
              "\n",
              "    .dataframe thead th {\n",
              "        text-align: right;\n",
              "    }\n",
              "</style>\n",
              "<table border=\"1\" class=\"dataframe\">\n",
              "  <thead>\n",
              "    <tr style=\"text-align: right;\">\n",
              "      <th></th>\n",
              "      <th>class</th>\n",
              "      <th>contents</th>\n",
              "    </tr>\n",
              "  </thead>\n",
              "  <tbody>\n",
              "    <tr>\n",
              "      <th>0</th>\n",
              "      <td>ham</td>\n",
              "      <td>go until jurong point  crazy   available only ...</td>\n",
              "    </tr>\n",
              "    <tr>\n",
              "      <th>1</th>\n",
              "      <td>ham</td>\n",
              "      <td>ok lar    joking wif u oni</td>\n",
              "    </tr>\n",
              "    <tr>\n",
              "      <th>2</th>\n",
              "      <td>spam</td>\n",
              "      <td>free entry in 2 a wkly comp to win fa cup fina...</td>\n",
              "    </tr>\n",
              "    <tr>\n",
              "      <th>3</th>\n",
              "      <td>ham</td>\n",
              "      <td>u dun say so early hor    u c already then say</td>\n",
              "    </tr>\n",
              "    <tr>\n",
              "      <th>4</th>\n",
              "      <td>ham</td>\n",
              "      <td>nah i don't think he goes to usf  he lives aro...</td>\n",
              "    </tr>\n",
              "  </tbody>\n",
              "</table>\n",
              "</div>"
            ],
            "text/plain": [
              "  class                                           contents\n",
              "0   ham  go until jurong point  crazy   available only ...\n",
              "1   ham                      ok lar    joking wif u oni   \n",
              "2  spam  free entry in 2 a wkly comp to win fa cup fina...\n",
              "3   ham  u dun say so early hor    u c already then say   \n",
              "4   ham  nah i don't think he goes to usf  he lives aro..."
            ]
          },
          "metadata": {},
          "execution_count": 2
        }
      ]
    },
    {
      "cell_type": "markdown",
      "metadata": {
        "id": "s6uO0JD0plr5"
      },
      "source": [
        "Assim, vemos que a tabela possui duas colunas: _class_ e _contents_\n",
        " - A coluna _class_ indica se aquela mensagem foi marcada como spam (mensagens legítimas estão marcadas como \"ham\")\n",
        " - A coluna _contents_ possui o conteúdo da mensagem"
      ]
    },
    {
      "cell_type": "markdown",
      "metadata": {
        "id": "CgGluKXrplr7"
      },
      "source": [
        "## Contagem de Palavras\n",
        "Para o classificador Naive Bayes, nós precisaremos estimar algumas probabilidades contando quantas vezes cada palavra aparece no dataset.\n",
        "\n",
        "Para isso, primeiramente precisamos saber quais são as palavras únicas e armazená-las em uma lista."
      ]
    },
    {
      "cell_type": "code",
      "metadata": {
        "id": "4xwJ7Nduplr8"
      },
      "source": [
        "unique_words = []\n",
        "\n",
        "# Itera por cada mensagem do dataframe\n",
        "for message in df['contents']:\n",
        "    \n",
        "    \n",
        "    # Itera por cada palavra na mensagem atual\n",
        "    for word in message.split():\n",
        "        \n",
        "        ######################################################################################\n",
        "        # 1. Preencha essa célula para encontrar todas as palavras únicas \n",
        "        # Ao final, o vetor unique_words deve conter cada palavra do dataframe uma única vez\n",
        "        #\n",
        "        if word not in unique_words:\n",
        "          unique_words.append(word)\n",
        "       \n",
        "            \n",
        "        ######################################################################################\n",
        "            \n",
        "\n",
        "### Verificação de erros ###\n",
        "assert len(unique_words) == 9163, 'O vetor unique_words deveria ter exatamente 9163 itens'\n",
        "assert len(np.unique(unique_words)) == len(unique_words), 'O vetor unique_words não deveria possuir itens repetidos'"
      ],
      "execution_count": 6,
      "outputs": []
    },
    {
      "cell_type": "markdown",
      "metadata": {
        "id": "AJDj4Ltwplr-"
      },
      "source": [
        "Agora, usaremos um dicionário (_dict_) para contarmos quantas vezes cada palavra ocorre no dataset:"
      ]
    },
    {
      "cell_type": "code",
      "metadata": {
        "id": "U21Mt3TVplsA"
      },
      "source": [
        "# Inicializa o dicionário com 0 ocorrências para cada palavra\n",
        "word_counts = {word: 0 for word in unique_words}\n",
        "\n",
        "# Inicializa a contagem total de palavras\n",
        "total_words = 0\n",
        "\n",
        "\n",
        "\n",
        "# Itera por cada mensagem do dataframe\n",
        "for message in df['contents']:\n",
        "    \n",
        "    \n",
        "    # Itera por cada palavra na mensagem atual\n",
        "    for word in message.split():\n",
        "        \n",
        "        ######################################################################################\n",
        "        # 2. Preencha essa célula para encontrar o número de ocorrências de cada palavra\n",
        "        # Ao final:\n",
        "        # - word_counts deve conter o número de ocorrências de cada palavra (por exemplo, word_counts['sing'] = 4)\n",
        "        # - total_words deve conter o número total de ocorrências\n",
        "        \n",
        "        word_counts[word] += 1\n",
        "        total_words += 1\n",
        "        \n",
        "        ######################################################################################        \n",
        "        \n",
        "\n",
        "### Verificação de erros ###\n",
        "assert total_words == 87971, 'Existem 87971 ocorrências de palavras no dataset'\n",
        "assert np.sum(list(word_counts.values())) == total_words, 'O dicionário word_counts está com o número incorreto de ocorrências totais'\n",
        "assert word_counts['the'] == 1325, 'A palavra \"the\" ocorre 1325 vezes no dataset'"
      ],
      "execution_count": 10,
      "outputs": []
    },
    {
      "cell_type": "markdown",
      "metadata": {
        "id": "3IKxMnEVplsB"
      },
      "source": [
        "Também precisaremos de contar quantas vezes cada palavra ocorre **em cada classe**:"
      ]
    },
    {
      "cell_type": "code",
      "metadata": {
        "id": "hJyBTYy1plsC"
      },
      "source": [
        "# Inicializa o dicionário e a contagem total de palavras entre as mensagens spam\n",
        "spam_word_counts = {word: 0 for word in unique_words}\n",
        "spam_total_words = 0\n",
        "\n",
        "# Inicializa o dicionário e a contagem total de palavras entre as mensagens ham\n",
        "ham_word_counts = {word: 0 for word in unique_words}\n",
        "ham_total_words = 0\n",
        "\n",
        "# Itera por cada mensagem do dataframe\n",
        "for i in range(len(df)):\n",
        "    \n",
        "    # Itera por cada palavra na mensagem atual\n",
        "    for word in df['contents'][i].split():\n",
        "        \n",
        "        ######################################################################################\n",
        "        # 3. Preencha essa célula para encontrar o número de ocorrências de cada palavra em cada classe\n",
        "        # Ao final:\n",
        "        # - spam_word_counts deve conter o número de ocorrências de cada palavra entre as mensagens spam\n",
        "        # - spam_total_words deve conter o número total de ocorrências entre as mensagens spam\n",
        "        # - ham_word_counts deve conter o número de ocorrências de cada palavra entre as mensagens ham\n",
        "        # - ham_total_words deve conter o número total de ocorrências entre as mensagens ham\n",
        "        #\n",
        "        # Para acessar a classificação da mensagem atual, basta usar o comando df['class'][i]\n",
        "        \n",
        "        if df['class'][i] == 'spam':\n",
        "          spam_word_counts[word] += 1\n",
        "          spam_total_words += 1\n",
        "        else:\n",
        "          ham_total_words += 1\n",
        "          ham_word_counts[word] += 1\n",
        "            \n",
        "        ######################################################################################    \n",
        "\n",
        "        \n",
        "### Verificação de erros ###\n",
        "assert spam_total_words == 18724, 'Existem 18724 ocorrências de palavras nas mensagens spam'\n",
        "assert ham_total_words == 69247, 'Existem 69247 ocorrências de palavras nas mensagens ham'\n",
        "assert np.sum(list(spam_word_counts.values())) == spam_total_words, 'O dicionário spam_word_counts está com o número incorreto de ocorrências totais'\n",
        "assert np.sum(list(ham_word_counts.values())) == ham_total_words, 'O dicionário ham_word_counts está com o número incorreto de ocorrências totais'\n",
        "assert np.all([(spam_word_counts[i] + ham_word_counts[i]) == word_counts[i] for i in unique_words]), 'A soma dos valores nos dicionários ham_word_counts e spam_word_counts não está consistente com a contagem total em word_counts'"
      ],
      "execution_count": 18,
      "outputs": []
    },
    {
      "cell_type": "markdown",
      "metadata": {
        "id": "LBqTbxFYplsF"
      },
      "source": [
        "## Classificador de uma palavra\n",
        "\n",
        "Com essas contagens, já podemos criar um classificador de spam de uma única palavra, usando o Teorema de Bayes:\n",
        "\n",
        "$$P(\\text{spam} | \\text{palavra}) = \\frac{P(\\text{palavra} | \\text{spam}) P(\\text{spam})}{P(\\text{palavra})}$$\n",
        "\n",
        "Vamos estimar cada termo no lado direito da equação:"
      ]
    },
    {
      "cell_type": "markdown",
      "metadata": {
        "id": "XAhpO3ZDplsG"
      },
      "source": [
        "### 1. Prior $P(\\text{spam})$\n",
        "\n",
        "Essa é a probabilidade de uma mensagem ser spam independente do conteúdo, o que corresponde à porcentagem de mensagens total que é spam:"
      ]
    },
    {
      "cell_type": "code",
      "metadata": {
        "id": "n5RGeuFXplsH"
      },
      "source": [
        "P_spam = 0\n",
        "P_ham = 0\n",
        "\n",
        "######################################################################################\n",
        "# 5. Preencha essa célula para encontrar a porcentagem total de palavras de cada tipo\n",
        "# Ao final:\n",
        "# - P_spam deve conter a porcentagem de palavras do tipo spam\n",
        "# - P_ham deve conter a porcentagem de palavras do tipo ham\n",
        "#\n",
        "# As variáveis de contagem de palavras (total_words, spam_total_words, ham_total_words) podem ser úteis\n",
        "\n",
        "P_spam = spam_total_words / total_words\n",
        "P_ham = ham_total_words / total_words\n",
        "\n",
        "######################################################################################\n",
        "\n",
        "\n",
        "### Verificação de erros ###\n",
        "assert P_spam == 0.21284286867263075, 'Porcentagem incorreta de mensagens do tipo spam'\n",
        "assert P_ham == 0.7871571313273692, 'Porcentagem incorreta de mensagens do tipo ham'"
      ],
      "execution_count": 19,
      "outputs": []
    },
    {
      "cell_type": "markdown",
      "metadata": {
        "id": "Omw40HUtplsH"
      },
      "source": [
        "### 2. Verossimilhança ou _Likelihood_  $P(\\text{palavra} | \\text{spam})$\n",
        "\n",
        "Essa é a probabilidade de uma palavra ocorrer **sabendo** a classificação dela. Pra isso, vamos usar as contagens de palavras pra cada classe:"
      ]
    },
    {
      "cell_type": "code",
      "metadata": {
        "id": "OgGJ4UIgplsI"
      },
      "source": [
        "# Função para encontrar P(word | label)\n",
        "# Argumentos:\n",
        "# - word: string, uma única palavra do dataset\n",
        "# - label: string, \"spam\" ou \"ham\"\n",
        "\n",
        "def Word_Likelihood(word, label):\n",
        "    \n",
        "    \n",
        "    \n",
        "    ######################################################################################\n",
        "    # 6. Preencha essa função para encontrar P(word | label)\n",
        "    #\n",
        "    # Para isso, use o argumento label que foi passado para decidir qual porcentagem retornar\n",
        "    # Para calcular as porcentagens, essas variáveis já calculadas podemo ser úteis:\n",
        "    #  - spam_word_counts e total_spam_words\n",
        "    #  - ham_word_counts e total_ham_words\n",
        "\n",
        "    if label == 'spam':\n",
        "      # P ('spam' | word) * P (word) / P('spam')\n",
        "      # P ()\n",
        "      # return (spam_word_counts[word]/spam_total_words)*(word_counts[word]/total_words)/P_spam\n",
        "      return (spam_word_counts[word]/spam_total_words)\n",
        "    else:\n",
        "      return (ham_word_counts[word]/ham_total_words)\n",
        "    ######################################################################################\n",
        "    \n",
        "    \n",
        "### Verificação de erros ###\n",
        "assert np.all(np.abs((pd.Series(unique_words).map(lambda w: Word_Likelihood(w, 'spam')) * spam_total_words - pd.Series(unique_words).map(lambda w: spam_word_counts[w]))) < 1e-8), 'Função retornando valores incorretos quando label = \"spam\"'\n",
        "assert np.all(np.abs((pd.Series(unique_words).map(lambda w: Word_Likelihood(w, 'ham')) * ham_total_words - pd.Series(unique_words).map(lambda w: ham_word_counts[w]))) < 1e-8), 'Função retornando valores incorretos quando label = \"ham\"'"
      ],
      "execution_count": 24,
      "outputs": []
    },
    {
      "cell_type": "markdown",
      "metadata": {
        "id": "wRmyULmIplsJ"
      },
      "source": [
        "### 3. Marginal $P(\\text{palavra})$\n",
        "\n",
        "Essa é a probabilidade de uma palavra aparecer independente da classificação, o que podemos encontrar usando a ocorrência das palavras:"
      ]
    },
    {
      "cell_type": "code",
      "metadata": {
        "id": "dgQL9C67plsJ"
      },
      "source": [
        "# Função para encontrar P(word)\n",
        "# Argumentos:\n",
        "# - word: string, uma única palavra do dataset\n",
        "\n",
        "def Word_Marginal(word):\n",
        "    \n",
        "    ######################################################################################\n",
        "    # 7. Preencha essa função para encontrar P(word)\n",
        "    #\n",
        "    # As variáveis word_counts e total_words podem ser úteis:\n",
        "    \n",
        "    \n",
        "    return (word_counts[word]/total_words)\n",
        "\n",
        "    ######################################################################################\n",
        "    \n",
        "\n",
        "### Verificação de erros ###\n",
        "assert np.all(np.abs((pd.Series(unique_words).map(lambda w: Word_Marginal(w)) * total_words - pd.Series(unique_words).map(lambda w: word_counts[w]))) < 1e-8), 'Função retornando valores incorretos'"
      ],
      "execution_count": 25,
      "outputs": []
    },
    {
      "cell_type": "markdown",
      "metadata": {
        "id": "y6nfL9EdplsJ"
      },
      "source": [
        "### Classificando\n",
        "Agora, podemos usar os três valores calculados para encontrar a probabilidade de uma palavra ser spam:"
      ]
    },
    {
      "cell_type": "code",
      "metadata": {
        "id": "NFGNbbusplsJ"
      },
      "source": [
        "# Função para encontrar P(spam | word), retorna a probabilidade de uma palavra ser spam\n",
        "# Argumentos:\n",
        "# - word: string, uma única palavra do dataset\n",
        "\n",
        "def word_is_spam(word):\n",
        "    \n",
        "    ######################################################################################\n",
        "    # 8. Preencha essa função para encontrar P(spam | word)\n",
        "    #\n",
        "    # Use as variáveis calculadas até agora (P_spam, Word_Likelihood e Word_Marginal) junto com o Teorema de Bayes\n",
        "    \n",
        "    return Word_Likelihood(word, 'spam')*P_spam/Word_Marginal(word)\n",
        "\n",
        "    ######################################################################################\n",
        "\n",
        "\n",
        "### Verificação de erros ###\n",
        "assert np.all(np.abs((pd.Series(unique_words).map(lambda w: word_is_spam(w)) * pd.Series(unique_words).map(lambda w: Word_Marginal(w)) - P_spam * pd.Series(unique_words).map(lambda w: Word_Likelihood(w,'spam')))) < 1e-8), 'Função retornando valores incorretos'"
      ],
      "execution_count": 27,
      "outputs": []
    },
    {
      "cell_type": "markdown",
      "metadata": {
        "id": "95pRL6g_plsK"
      },
      "source": [
        "Podemos agora ver a probabilidade de cada palavra ser de uma mensagem spam:"
      ]
    },
    {
      "cell_type": "code",
      "metadata": {
        "id": "oIAWhqN9plsK",
        "outputId": "e5483984-baeb-49af-b47a-7799cd959a09"
      },
      "source": [
        "word_is_spam('free')"
      ],
      "execution_count": null,
      "outputs": [
        {
          "data": {
            "text/plain": [
              "0.7870036101083033"
            ]
          },
          "execution_count": 13,
          "metadata": {},
          "output_type": "execute_result"
        }
      ]
    },
    {
      "cell_type": "code",
      "metadata": {
        "id": "BBHYtIQjplsL",
        "outputId": "b6c9cea0-27c7-449f-8daf-93cd874f7f0e"
      },
      "source": [
        "word_is_spam('friend')"
      ],
      "execution_count": null,
      "outputs": [
        {
          "data": {
            "text/plain": [
              "0.23404255319148937"
            ]
          },
          "execution_count": 14,
          "metadata": {},
          "output_type": "execute_result"
        }
      ]
    },
    {
      "cell_type": "markdown",
      "metadata": {
        "id": "FTicc-otplsM"
      },
      "source": [
        "# Classificador Naive Bayes para textos inteiros\n",
        "Se quisermos classificar textos inteiros em vez de apenas palavras únicas, podemos usar a suposição de independência condicional:\n",
        "\n",
        "$$P(\\text{texto} | \\text{spam}) = P(\\text{palavra 1} | \\text{spam}) \\cdot P(\\text{palavra 2} | \\text{spam}) \\ldots $$\n",
        "\n",
        "Para isso, nós iremos usar a biblioteca Scikit-Learn, que já tem o classificador Naive Bayes implementado."
      ]
    },
    {
      "cell_type": "markdown",
      "metadata": {
        "id": "apI9TDnjplsM"
      },
      "source": [
        "Primeiramente, precisamos passar os dados de entrada para o formato esperado pela biblioteca. No caso do Naive Bayes, é necessário usar um formato de onde cada coluna representa o número de ocorrências de uma palavra em cada mensagem. Para esse passo de preprocessamento, podemos usar o CountVectorizer, já implementado na biblioteca (se precisar de ajuda, use o [guia do usuário](https://scikit-learn.org/stable/modules/feature_extraction.html#text-feature-extraction) ou a [documentação](https://scikit-learn.org/stable/modules/generated/sklearn.feature_extraction.text.CountVectorizer.html?highlight=countvectorizer#sklearn.feature_extraction.text.CountVectorizer)."
      ]
    },
    {
      "cell_type": "code",
      "metadata": {
        "id": "iuq82smjplsN"
      },
      "source": [
        "from sklearn.feature_extraction.text import CountVectorizer\n",
        "\n",
        "vectorizer = CountVectorizer()\n",
        "X = None\n",
        "\n",
        "######################################################################################\n",
        "# 9. Armazene a tabela de contagem de ocorrências das palavras na variável X\n",
        "# \n",
        "# Para isso, use o objeto vectorizer na coluna 'contents' do dataframe.\n",
        "\n",
        "X = vectorizer.fit_transform(df['contents'])\n",
        "\n",
        "######################################################################################\n",
        "\n",
        "\n",
        "\n",
        "### Verificação de erros ###\n",
        "assert np.sum(2*X - CountVectorizer().fit_transform(df.contents)) == np.sum(X) , \"Erro no preprocessamento dos dados\""
      ],
      "execution_count": 43,
      "outputs": []
    },
    {
      "cell_type": "markdown",
      "metadata": {
        "id": "SbEZ_Dc0plsO"
      },
      "source": [
        "Também é necessário transformar a coluna de classes em valores numéricos (1 representando spam e 0 representando não spam). Para isso, podemos usar o LabelEncoder, também da Scikit Learn ([documentação](https://scikit-learn.org/stable/modules/generated/sklearn.preprocessing.LabelEncoder.html) e [guia do usuário](https://scikit-learn.org/stable/modules/preprocessing_targets.html#preprocessing-targets))"
      ]
    },
    {
      "cell_type": "code",
      "metadata": {
        "id": "9RcD9plVplsO"
      },
      "source": [
        "from sklearn.preprocessing import LabelEncoder\n",
        "y = None\n",
        "\n",
        "######################################################################################\n",
        "# 10. Armazene as saídas esperadas (spam ou não spam) como valores numéricos na variável y\n",
        "# \n",
        "# Para isso, aplique a função LabelEncoder na coluna 'class' do dataframe.\n",
        "le = LabelEncoder()\n",
        "le.fit(df['class'])\n",
        "y = le.transform(df['class'])\n",
        "\n",
        "######################################################################################\n",
        "\n",
        "\n",
        "assert np.sum(y - (df['class'] == 'spam')) == 0, \"Erro na codificação das labels\""
      ],
      "execution_count": 58,
      "outputs": []
    },
    {
      "cell_type": "markdown",
      "metadata": {
        "id": "btSF_FIFplsO"
      },
      "source": [
        "Além disso, é muito importante separarmos um conjunto de teste para poder avaliarmos nosso modelo depois. No nosso caso, criaremos uma divisão com 20% dos dados para teste usando a função train_test_split ([documentação](https://scikit-learn.org/stable/modules/generated/sklearn.model_selection.train_test_split.html)):"
      ]
    },
    {
      "cell_type": "code",
      "metadata": {
        "id": "9M8L3Ll2plsP"
      },
      "source": [
        "from sklearn.model_selection import train_test_split\n",
        "\n",
        "\n",
        "######################################################################################\n",
        "# 11. Separe as variáveis X e y em dados de treino e teste, armazenando os resultados nas variáveis acima\n",
        "# \n",
        "# Para isso, aplique a função train_test_split nas variáveis X e y\n",
        "# Além disso, use o random_state = 42 para permitir a reprodutibilidade\n",
        "\n",
        "X_train, X_test, y_train, y_test = train_test_split(X, y, test_size=0.2, random_state=42)\n",
        "\n",
        "######################################################################################\n",
        "\n",
        "\n",
        "assert X.shape[1] == X_train.shape[1] == X_test.shape[1], 'Erro na separação dos conjuntos'\n",
        "assert X.shape[0] == X_train.shape[0] + X_test.shape[0], 'Erro na separação dos conjuntos'\n",
        "assert y.shape[0] == y_train.shape[0] + y_test.shape[0], 'Erro na separação dos conjuntos'\n",
        "assert y_train.shape[0] == X_train.shape[0] == 4457, 'Erro na proporção de separação: apenas 20% dos dados devem ser de teste'"
      ],
      "execution_count": 62,
      "outputs": []
    },
    {
      "cell_type": "markdown",
      "metadata": {
        "id": "n2G-Zp_nplsP"
      },
      "source": [
        "Agora, usaremos a função MultinomialNB ([documentação](https://scikit-learn.org/stable/modules/generated/sklearn.naive_bayes.MultinomialNB.html)) para treinar um modelo Naive Bayes no conjunto de teste:"
      ]
    },
    {
      "cell_type": "code",
      "metadata": {
        "id": "UYLV3TWhplsP",
        "colab": {
          "base_uri": "https://localhost:8080/"
        },
        "outputId": "123be134-5b1e-428f-ebb4-38ed85398227"
      },
      "source": [
        "from sklearn.naive_bayes import MultinomialNB\n",
        "model = None\n",
        "\n",
        "######################################################################################\n",
        "# 12. Treine um modelo Naive Bayes nos dados de teste\n",
        "# IMPORTANTE: não use os dados de teste nessa célula, apenas os de treino\n",
        "\n",
        "model = MultinomialNB()\n",
        "model.fit(X_train, y_train)\n",
        "\n",
        "######################################################################################"
      ],
      "execution_count": 65,
      "outputs": [
        {
          "output_type": "execute_result",
          "data": {
            "text/plain": [
              "MultinomialNB(alpha=1.0, class_prior=None, fit_prior=True)"
            ]
          },
          "metadata": {},
          "execution_count": 65
        }
      ]
    },
    {
      "cell_type": "markdown",
      "metadata": {
        "id": "bBg9ymcuplsP"
      },
      "source": [
        "Por fim, podemos calcular a acurácia do modelo nos dados de teste (se tudo ocorreu bem, o valor deve estar acima de 97%):"
      ]
    },
    {
      "cell_type": "code",
      "metadata": {
        "id": "_OG8BcseplsQ",
        "colab": {
          "base_uri": "https://localhost:8080/"
        },
        "outputId": "c91deb73-65d8-48c5-d750-f843e8fe9f30"
      },
      "source": [
        "from sklearn.metrics import accuracy_score\n",
        "print('Acurácia: %.2lf%%' % (accuracy_score(y_test, model.predict(X_test))*100))"
      ],
      "execution_count": 66,
      "outputs": [
        {
          "output_type": "stream",
          "name": "stdout",
          "text": [
            "Acurácia: 97.85%\n"
          ]
        }
      ]
    },
    {
      "cell_type": "markdown",
      "metadata": {
        "id": "8JYFmO0YplsR"
      },
      "source": [
        "Para testar o modelo em textos, basta usar o mesmo vetorizador na entrada que usamos no preprocessamento, como na função abaixo:"
      ]
    },
    {
      "cell_type": "code",
      "metadata": {
        "id": "NAGrm6XUplsR"
      },
      "source": [
        "def pred(message):\n",
        "    message = preprocess(message)\n",
        "    inputs = vectorizer.transform([message])\n",
        "    prob = model.predict_proba(inputs)\n",
        "    print('spam probability: %.2f %%' % (100*prob[0][1],))"
      ],
      "execution_count": 67,
      "outputs": []
    },
    {
      "cell_type": "code",
      "metadata": {
        "id": "6qR93kFyplsS",
        "colab": {
          "base_uri": "https://localhost:8080/"
        },
        "outputId": "9ee482b2-871c-445a-8e36-560052a8a834"
      },
      "source": [
        "message = 'is this message spam?'\n",
        "pred(message)"
      ],
      "execution_count": 68,
      "outputs": [
        {
          "output_type": "stream",
          "name": "stdout",
          "text": [
            "spam probability: 36.17 %\n"
          ]
        }
      ]
    },
    {
      "cell_type": "code",
      "metadata": {
        "id": "yIm9l429plsS",
        "colab": {
          "base_uri": "https://localhost:8080/"
        },
        "outputId": "19a36e20-960b-4306-b1ef-7bf2abe54bcf"
      },
      "source": [
        "message = 'get an iphone for free now'\n",
        "pred(message)"
      ],
      "execution_count": 69,
      "outputs": [
        {
          "output_type": "stream",
          "name": "stdout",
          "text": [
            "spam probability: 77.79 %\n"
          ]
        }
      ]
    },
    {
      "cell_type": "code",
      "metadata": {
        "id": "8D1cnLeSplsT",
        "colab": {
          "base_uri": "https://localhost:8080/"
        },
        "outputId": "4c130899-489c-4622-e8fe-6f6a4ead95e8"
      },
      "source": [
        "message = 'I need to have a meeting with you tomorrow'\n",
        "pred(message)"
      ],
      "execution_count": 70,
      "outputs": [
        {
          "output_type": "stream",
          "name": "stdout",
          "text": [
            "spam probability: 0.02 %\n"
          ]
        }
      ]
    },
    {
      "cell_type": "code",
      "metadata": {
        "colab": {
          "base_uri": "https://localhost:8080/"
        },
        "id": "Z2g4BIdtcrUh",
        "outputId": "39b76472-fea0-41d0-a885-4fb75f4f9802"
      },
      "source": [
        "message = 'COMPLIMENT OF THE DAY'\n",
        "pred(message)"
      ],
      "execution_count": 71,
      "outputs": [
        {
          "output_type": "stream",
          "name": "stdout",
          "text": [
            "spam probability: 0.89 %\n"
          ]
        }
      ]
    },
    {
      "cell_type": "code",
      "metadata": {
        "colab": {
          "base_uri": "https://localhost:8080/"
        },
        "id": "YzSN3zFTczsy",
        "outputId": "45229e8d-06eb-4bbb-86bc-d245cfb461f0"
      },
      "source": [
        "message = 'A Call for Investiment Partnership'\n",
        "pred(message)"
      ],
      "execution_count": 73,
      "outputs": [
        {
          "output_type": "stream",
          "name": "stdout",
          "text": [
            "spam probability: 34.46 %\n"
          ]
        }
      ]
    },
    {
      "cell_type": "code",
      "metadata": {
        "id": "SEbLUbYKc9OV"
      },
      "source": [
        ""
      ],
      "execution_count": null,
      "outputs": []
    }
  ]
}